{
 "cells": [
  {
   "cell_type": "code",
   "execution_count": 6,
   "metadata": {},
   "outputs": [],
   "source": [
    "import pandas as pd\n",
    "import nltk\n",
    "from nltk.stem import WordNetLemmatizer \n",
    "\n"
   ]
  },
  {
   "cell_type": "code",
   "execution_count": 29,
   "metadata": {},
   "outputs": [
    {
     "name": "stdout",
     "output_type": "stream",
     "text": [
      "           title                                        description\n",
      "0             3%  In a future where the elite inhabit an island ...\n",
      "1           7:19  After a devastating earthquake hits Mexico Cit...\n",
      "2          23:59  When an army recruit is found dead, his fellow...\n",
      "3              9  In a postapocalyptic world, rag-doll robots hi...\n",
      "4             46  A genetics professor experiments with a treatm...\n",
      "..           ...                                                ...\n",
      "916      Zinzana  Recovering alcoholic Talal wakes up inside a s...\n",
      "917       Zodiac  A political cartoonist, a crime reporter and a...\n",
      "918     Zokkomon  When his cruel uncle abandons him, a young orp...\n",
      "919  Zombie Dumb  While living alone in a spooky town, a young g...\n",
      "920   Zombieland  Looking to survive in a world taken over by zo...\n",
      "\n",
      "[921 rows x 2 columns]\n"
     ]
    }
   ],
   "source": [
    "movies=pd.read_csv(\"netflix_titles.csv\",encoding='latin-1')\n",
    "data=movies[['title','description','listed_in','Mood']]\n",
    "print(data)"
   ]
  },
  {
   "cell_type": "code",
   "execution_count": null,
   "metadata": {},
   "outputs": [],
   "source": [
    "lemmatizer = WordNetLemmatizer()"
   ]
  }
 ],
 "metadata": {
  "kernelspec": {
   "display_name": "Python 3",
   "language": "python",
   "name": "python3"
  },
  "language_info": {
   "codemirror_mode": {
    "name": "ipython",
    "version": 3
   },
   "file_extension": ".py",
   "mimetype": "text/x-python",
   "name": "python",
   "nbconvert_exporter": "python",
   "pygments_lexer": "ipython3",
   "version": "3.8.5"
  }
 },
 "nbformat": 4,
 "nbformat_minor": 4
}
